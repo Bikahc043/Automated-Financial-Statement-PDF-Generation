{
 "cells": [
  {
   "cell_type": "code",
   "execution_count": 1,
   "id": "7a4d527c-aeaf-4420-82ca-8fca8139204b",
   "metadata": {},
   "outputs": [],
   "source": [
    "import requests\n",
    "import pandas as pd\n",
    "import matplotlib.pyplot as plt\n",
    "from fpdf import FPDF\n"
   ]
  },
  {
   "cell_type": "code",
   "execution_count": 2,
   "id": "55f82fb2-7484-4476-a360-124394b02460",
   "metadata": {},
   "outputs": [],
   "source": [
    "def fetch_financial_data(ticker, API_KEY):\n",
    "    base_url = 'https://financialmodelingprep.com/api'\n",
    "    data_type = 'income-statement'\n",
    "    url = f'{base_url}/v3/{data_type}/{ticker}?apikey={API_KEY}'\n",
    "    \n",
    "    response = requests.get(url)\n",
    "    data = response.json()\n",
    "    \n",
    "    df = pd.DataFrame(data)\n",
    "    filtered_df = df[['calendarYear', 'revenue', 'grossProfit', 'ebitda', 'ebitdaratio', 'eps']]\n",
    "    filtered_df = filtered_df.sort_values(by='calendarYear', ascending=False).head(5)\n",
    "    filtered_df = filtered_df.sort_values(by='calendarYear') \n",
    "    return filtered_df"
   ]
  },
  {
   "cell_type": "code",
   "execution_count": 3,
   "id": "791a8620-3ea8-408e-8925-ab8294be802a",
   "metadata": {},
   "outputs": [],
   "source": [
    "def generate_plots(filtered_df, ticker):\n",
    "    plt.figure(figsize=(6, 4))\n",
    "    plt.plot(filtered_df['calendarYear'], filtered_df['eps'], marker='o', color='b')\n",
    "    plt.title(f'{ticker} EPS Trend Over Last 5 Years')\n",
    "    plt.xlabel('Year')\n",
    "    plt.ylabel('EPS')\n",
    "    \n",
    "    for i in range(len(filtered_df)):\n",
    "        plt.text(filtered_df['calendarYear'].iloc[i], filtered_df['eps'].iloc[i], round(filtered_df['eps'].iloc[i], 2))\n",
    "    plt.tight_layout()\n",
    "    plt.savefig(f'{ticker}_eps_trend.png')\n",
    "    plt.close()\n",
    "\n",
    "    plt.figure(figsize=(6, 4))\n",
    "    plt.plot(filtered_df['calendarYear'], filtered_df['ebitda'], marker='o', color='g')\n",
    "    plt.title(f'{ticker} EBITDA Trend Over Last 5 Years')\n",
    "    plt.xlabel('Year')\n",
    "    plt.ylabel('EBITDA')\n",
    "    \n",
    "    for i in range(len(filtered_df)):\n",
    "        plt.text(filtered_df['calendarYear'].iloc[i], filtered_df['ebitda'].iloc[i], round(filtered_df['ebitda'].iloc[i], 2))\n",
    "    plt.tight_layout()\n",
    "    plt.savefig(f'{ticker}_ebitda_trend.png')\n",
    "    plt.close()\n",
    "\n",
    "    plt.figure(figsize=(6, 4))\n",
    "    plt.plot(filtered_df['calendarYear'], filtered_df['grossProfit'], marker='o', color='r')\n",
    "    plt.title(f'{ticker} Gross Profit Trend Over Last 5 Years')\n",
    "    plt.xlabel('Year')\n",
    "    plt.ylabel('Gross Profit')\n",
    "    \n",
    "    for i in range(len(filtered_df)):\n",
    "        plt.text(filtered_df['calendarYear'].iloc[i], filtered_df['grossProfit'].iloc[i], round(filtered_df['grossProfit'].iloc[i], 2))\n",
    "    plt.tight_layout()\n",
    "    plt.savefig(f'{ticker}_gross_profit_trend.png')\n",
    "    plt.close()"
   ]
  },
  {
   "cell_type": "code",
   "execution_count": 4,
   "id": "b1b5bf6b-e8e1-49fd-97e8-6249ea23c8bf",
   "metadata": {},
   "outputs": [],
   "source": [
    "class PDF(FPDF):\n",
    "    def header(self):\n",
    "        self.set_font('Arial', 'B', 14)\n",
    "        self.cell(0, 10, self.title, 0, 1, 'C')\n",
    "\n",
    "    def add_table(self, df):\n",
    "        self.set_font('Arial', '', 10)\n",
    "        col_width = self.w / 7\n",
    "        self.ln(10)\n",
    "        for col in df.columns:\n",
    "            self.cell(col_width, 10, col, 1, 0, 'C')\n",
    "        self.ln()\n",
    "        for i in range(len(df)):\n",
    "            for j in range(len(df.columns)):\n",
    "                self.cell(col_width, 10, str(df.iloc[i, j]), 1, 0, 'C')\n",
    "            self.ln()\n",
    "\n",
    "    def add_image(self, image_path):\n",
    "        self.add_page()\n",
    "        self.image(image_path, x=10, y=30, w=190)"
   ]
  },
  {
   "cell_type": "code",
   "execution_count": 5,
   "id": "eeb41321-4b45-4137-8cff-d63c2af2350a",
   "metadata": {},
   "outputs": [],
   "source": [
    "def generate_pdf(ticker, filtered_df):\n",
    "    pdf = PDF()\n",
    "    pdf.title = f'{ticker} Financial Statement'\n",
    "    pdf.add_page()\n",
    "\n",
    "\n",
    "    pdf.set_font('Arial', 'B', 12)\n",
    "    pdf.cell(0, 10, f'{ticker} Financial Data', ln=True, align='L')\n",
    "    pdf.add_table(filtered_df)\n",
    "\n",
    "\n",
    "    pdf.add_image(f'{ticker}_eps_trend.png')\n",
    "    pdf.add_image(f'{ticker}_ebitda_trend.png')\n",
    "    pdf.add_image(f'{ticker}_gross_profit_trend.png')\n",
    "\n",
    "    pdf.output(f'{ticker}_financial_statement.pdf')\n",
    "\n",
    "\n",
    "API_KEY = '97nCa1Uxcak8UmXtbumbGdtneDNNo4Yj'\n",
    "\n",
    "tickers = ['AAPL', 'MSFT']\n",
    "\n",
    "for ticker in tickers:\n",
    "    filtered_df = fetch_financial_data(ticker, API_KEY)\n",
    "    generate_plots(filtered_df, ticker)\n",
    "    generate_pdf(ticker, filtered_df)\n"
   ]
  },
  {
   "cell_type": "code",
   "execution_count": null,
   "id": "ad12adf6-8c08-4216-a583-55f1843d6d50",
   "metadata": {},
   "outputs": [],
   "source": []
  }
 ],
 "metadata": {
  "kernelspec": {
   "display_name": "Python 3 (ipykernel)",
   "language": "python",
   "name": "python3"
  },
  "language_info": {
   "codemirror_mode": {
    "name": "ipython",
    "version": 3
   },
   "file_extension": ".py",
   "mimetype": "text/x-python",
   "name": "python",
   "nbconvert_exporter": "python",
   "pygments_lexer": "ipython3",
   "version": "3.12.4"
  }
 },
 "nbformat": 4,
 "nbformat_minor": 5
}
